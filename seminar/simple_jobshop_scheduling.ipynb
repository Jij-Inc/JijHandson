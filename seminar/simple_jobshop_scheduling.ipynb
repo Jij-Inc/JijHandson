{
 "cells": [
  {
   "cell_type": "markdown",
   "metadata": {},
   "source": [
    "# JijZept Solverハンズオン\n",
    "\n",
    "## 1. パッケージのインストール\n",
    "最初に、このノートブック実行に必要なパッケージをインストールします。"
   ]
  },
  {
   "cell_type": "code",
   "execution_count": null,
   "metadata": {},
   "outputs": [],
   "source": [
    "# 必要なパッケージをインストール\n",
    "!pip install jijzept_solver jijmodeling ommx_pyscipopt_adapter matplotlib"
   ]
  },
  {
   "cell_type": "markdown",
   "metadata": {},
   "source": [
    "## 2. JijZept Solver 環境設定"
   ]
  },
  {
   "cell_type": "code",
   "execution_count": null,
   "metadata": {},
   "outputs": [],
   "source": [
    "import os\n",
    "\n",
    "os.environ[\"JIJZEPT_SOLVER_SERVER_HOST\"] = \"APIサーバーのホスト名\"\n",
    "os.environ[\"JIJZEPT_SOLVER_ACCESS_TOKEN\"] = \"アクセストークン\""
   ]
  },
  {
   "cell_type": "markdown",
   "metadata": {},
   "source": [
    "## 3. ジョブショップスケジューリング問題の解説"
   ]
  },
  {
   "cell_type": "markdown",
   "metadata": {},
   "source": [
    "![image_01_83a0e5ee-9417-2ef8-50fb-34e81dce8262.jpg](https://raw.githubusercontent.com/Jij-Inc/JijHandson/feature/jijzept-solver-seminar2/seminar/assets/image_01_83a0e5ee-9417-2ef8-50fb-34e81dce8262.jpg)"
   ]
  },
  {
   "cell_type": "markdown",
   "metadata": {},
   "source": [
    "![image_02_4be4fbbf-175e-4986-962e-6abf77c738da.jpg](https://raw.githubusercontent.com/Jij-Inc/JijHandson/feature/jijzept-solver-seminar2/seminar/assets/image_02_4be4fbbf-175e-4986-962e-6abf77c738da.jpg)"
   ]
  },
  {
   "cell_type": "markdown",
   "metadata": {},
   "source": [
    "![image_03_b1ab41a2-9ef6-4fa7-9fb4-81b25eb93aea.jpg](https://raw.githubusercontent.com/Jij-Inc/JijHandson/feature/jijzept-solver-seminar2/seminar/assets/image_03_b1ab41a2-9ef6-4fa7-9fb4-81b25eb93aea.jpg)"
   ]
  },
  {
   "cell_type": "markdown",
   "metadata": {},
   "source": [
    "![image_05_9647975e-4d39-485c-b722-069f4f255387.jpg](https://raw.githubusercontent.com/Jij-Inc/JijHandson/feature/jijzept-solver-seminar2/seminar/assets/image_05_9647975e-4d39-485c-b722-069f4f255387.jpg)"
   ]
  },
  {
   "cell_type": "markdown",
   "metadata": {},
   "source": [
    "![image_06_18115e9c-d532-4b17-bb9c-0dc15690c901.jpg](https://raw.githubusercontent.com/Jij-Inc/JijHandson/feature/jijzept-solver-seminar2/seminar/assets/image_06_18115e9c-d532-4b17-bb9c-0dc15690c901.jpg)"
   ]
  },
  {
   "cell_type": "markdown",
   "metadata": {},
   "source": [
    "![image_07_a1cc1e66-7a09-4c10-a1c7-bf7bc90ac557.jpg](https://raw.githubusercontent.com/Jij-Inc/JijHandson/feature/jijzept-solver-seminar2/seminar/assets/image_07_a1cc1e66-7a09-4c10-a1c7-bf7bc90ac557.jpg)"
   ]
  },
  {
   "cell_type": "markdown",
   "metadata": {},
   "source": [
    "![image_08_dcfc265b-1f3d-43c0-b126-e3ee7f29f955.jpg](https://raw.githubusercontent.com/Jij-Inc/JijHandson/feature/jijzept-solver-seminar2/seminar/assets/image_08_dcfc265b-1f3d-43c0-b126-e3ee7f29f955.jpg)"
   ]
  },
  {
   "cell_type": "markdown",
   "metadata": {},
   "source": [
    "## 4. 数理モデルの定義（JijModeling）\n",
    "\n",
    "JijModelingを使用して、このジョブショップスケジューリング問題をモデリングします。"
   ]
  },
  {
   "cell_type": "code",
   "execution_count": null,
   "metadata": {},
   "outputs": [],
   "source": [
    "# 必要なライブラリをインポート\n",
    "import jijmodeling as jm\n",
    "\n",
    "# --- 1. プレースホルダ（入力データ） ---\n",
    "# JT[i]: ジョブiの処理時間\n",
    "JT = jm.Placeholder(\"JT\", ndim=1, description=\"Processing time for job i\")\n",
    "# N: ジョブ数（JTの長さから導出）\n",
    "N = JT.len_at(0, latex=\"N\", description=\"Number of jobs\")\n",
    "# M: 機械数\n",
    "M = jm.Placeholder(\"M\", description=\"Number of machines\")\n",
    "\n",
    "# --- 2. 要素（インデックス） ---\n",
    "# i: ジョブのインデックス（0からN-1）\n",
    "i = jm.Element(\"i\", belong_to=(0, N), description=\"Index for jobs\")\n",
    "# m: 機械のインデックス（0からM-1）\n",
    "m = jm.Element(\"m\", belong_to=(0, M), description=\"Index for machines\")\n",
    "\n",
    "# --- 3. 変数（決定変数と補助変数） ---\n",
    "# x[i, m]: バイナリ変数、ジョブiが機械mに割り当てられる場合は1、そうでない場合は0\n",
    "x = jm.BinaryVar(\n",
    "    \"x\",\n",
    "    shape=(N, M),\n",
    "    description=\"x[i, m]: 1 if job i is assigned to machine m, else 0\",\n",
    ")\n",
    "# makespan: すべての機械にわたる最大完了時間を表す連続変数\n",
    "makespan = jm.ContinuousVar(\n",
    "    \"makespan\",\n",
    "    lower_bound=0,\n",
    "    upper_bound=jm.sum(i, JT[i]),\n",
    "    description=\"Makespan: The completion time of the last job across all machines\",\n",
    ")\n",
    "\n",
    "# --- 4. 問題の定義 ---\n",
    "problem = jm.Problem(\"Parallel Machine Scheduling\")\n",
    "\n",
    "# --- 5. 制約 ---\n",
    "# 制約1：各ジョブ 'i' は正確に1つの機械 'm' に割り当てられなければならない\n",
    "problem += jm.Constraint(\n",
    "    \"Job_Assignment\",\n",
    "    jm.sum(m, x[i, m]) == 1,\n",
    "    forall=i,\n",
    ")\n",
    "# 制約2：任意の機械 'm' の総処理時間はメイクスパン以下でなければならない\n",
    "problem += jm.Constraint(\n",
    "    \"Max_Time_per_Machine\",\n",
    "    jm.sum(i, JT[i] * x[i, m]) <= makespan,\n",
    "    forall=m,\n",
    ")\n",
    "\n",
    "# --- 6. 目的関数 ---\n",
    "# メイクスパンを最小化\n",
    "problem += makespan\n",
    "\n",
    "problem"
   ]
  },
  {
   "cell_type": "markdown",
   "metadata": {},
   "source": [
    "## 5. 可視化関数の定義\n",
    "\n",
    "結果を可視化（ガントチャート等）するための関数を定義しておきます。"
   ]
  },
  {
   "cell_type": "code",
   "execution_count": null,
   "metadata": {},
   "outputs": [],
   "source": [
    "import matplotlib.pyplot as plt\n",
    "import numpy as np\n",
    "import pandas as pd\n",
    "\n",
    "def analyze_schedule_results(solution, instance_data):\n",
    "    x_result: dict[tuple[int, ...], float] = solution.extract_decision_variables(\"x\")\n",
    "    \n",
    "    makespan_value = solution.objective\n",
    "    print(f\"\\n--- Solver Results ---\")\n",
    "    print(f\"Makespan: {makespan_value:.2f}\")\n",
    "    assignment = {}  # {機械インデックス: [ジョブインデックス, ...]}\n",
    "    assigned_jobs_flat = (\n",
    "        []\n",
    "    )  # DataFrameに格納するデータ: [{'Job': i, 'Machine': m, 'Time': t}]\n",
    "    x_result = {}\n",
    "\n",
    "    x_result = solution.extract_decision_variables(\"x\")\n",
    "\n",
    "    # 抽出したx_result辞書を処理\n",
    "    num_machines_instance = instance_data[\"M\"]\n",
    "    for indices, val in x_result.items():\n",
    "        if len(indices) == 2 and val > 0.5:  # バイナリ '1' をチェック\n",
    "            i, m = indices  # インデックスをアンパック\n",
    "            if m not in assignment:\n",
    "                assignment[m] = []\n",
    "            assignment[m].append(i)\n",
    "            # JTにアクセスする前にジョブインデックスiが有効であることを確認\n",
    "            if 0 <= i < len(instance_data[\"JT\"]):\n",
    "                assigned_jobs_flat.append(\n",
    "                    {\"Job\": i, \"Machine\": m, \"Time\": instance_data[\"JT\"][i]}\n",
    "                )\n",
    "            else:\n",
    "                print(\n",
    "                    f\"Warning: Invalid job index {i} found in solution variable 'x' for machine {m}.\"\n",
    "                )\n",
    "\n",
    "    print(\"\\nJob Assignments per Machine:\")\n",
    "    if assignment:\n",
    "        for m_idx in range(num_machines_instance):\n",
    "            assigned_jobs = sorted(assignment.get(m_idx, []))\n",
    "            print(f\"  Machine {m_idx}: Jobs {assigned_jobs}\")\n",
    "    else:\n",
    "        print(\"  No assignments could be extracted from 'x' variables.\")\n",
    "\n",
    "    if assigned_jobs_flat:\n",
    "        assignment_df = pd.DataFrame(assigned_jobs_flat)\n",
    "        print(\"\\nAssignment Details (DataFrame):\")\n",
    "        print(\n",
    "            assignment_df.sort_values(by=[\"Machine\", \"Job\"]).reset_index(\n",
    "                drop=True\n",
    "            )\n",
    "        )\n",
    "    else:\n",
    "        print(\"\\nAssignment Details (DataFrame): Empty\")\n",
    "        assignment_df = pd.DataFrame()\n",
    "    \n",
    "    print(\"\\n--- Result Analysis ---\")\n",
    "    print(\"Total Processing Time (Load) per Machine:\")\n",
    "    machine_loads = {m: 0 for m in range(num_machines_instance)}\n",
    "    machine_load_list = []\n",
    "    job_times = instance_data[\"JT\"]\n",
    "\n",
    "    for m_idx in range(num_machines_instance):\n",
    "        load = 0\n",
    "        assigned_job_indices = assignment.get(m_idx, [])\n",
    "        for job_idx in assigned_job_indices:\n",
    "            if 0 <= job_idx < len(job_times):\n",
    "                load += job_times[job_idx]\n",
    "            else:\n",
    "                print(\n",
    "                    f\"Warning: Invalid job index {job_idx} found for machine {m_idx} during load calculation.\"\n",
    "                )\n",
    "        machine_loads[m_idx] = load\n",
    "        machine_load_list.append(load)\n",
    "        print(f\"  Machine {m_idx}: {load:.2f}\")\n",
    "\n",
    "    calculated_max_load = max(machine_load_list) if machine_load_list else 0\n",
    "    print(f\"\\nCalculated Maximum Machine Load: {calculated_max_load:.2f}\")\n",
    "    print(f\"(Solver's Makespan: {makespan_value:.2f})\")\n",
    "    if abs(calculated_max_load - makespan_value) < 1e-6:\n",
    "        print(\"-> Verification successful: Makespan matches the maximum machine load.\")\n",
    "    else:\n",
    "        print(\n",
    "            \"-> WARNING: Makespan does NOT match the calculated maximum load. Check model/solver.\"\n",
    "        )\n",
    "    \n",
    "    return {\n",
    "        'makespan_value': makespan_value,\n",
    "        'assignment': assignment,\n",
    "        'machine_loads': machine_loads,\n",
    "        'machine_load_list': machine_load_list,\n",
    "        'assignment_df': assignment_df,\n",
    "        'job_times': job_times,\n",
    "        'num_machines': num_machines_instance\n",
    "    }\n",
    "\n",
    "\n",
    "def plot_machine_load_chart(analysis_results):\n",
    "    makespan_value = analysis_results['makespan_value']\n",
    "    machine_load_list = analysis_results['machine_load_list']\n",
    "    num_machines_instance = analysis_results['num_machines']\n",
    "    \n",
    "    # --- 可視化1: 棒グラフ ---\n",
    "    print(\"\\n--- Visualization ---\")\n",
    "    plt.figure(figsize=(8, 5))\n",
    "    machines = [f\"Machine {m}\" for m in range(num_machines_instance)]\n",
    "    bars = plt.bar(machines, machine_load_list, color=\"skyblue\", edgecolor=\"black\")\n",
    "    plt.axhline(\n",
    "        makespan_value,\n",
    "        color=\"red\",\n",
    "        linestyle=\"--\",\n",
    "        label=f\"Makespan ({makespan_value:.2f})\",\n",
    "    )\n",
    "\n",
    "    for bar in bars:\n",
    "        yval = bar.get_height()\n",
    "        plt.text(\n",
    "            bar.get_x() + bar.get_width() / 2.0,\n",
    "            yval,\n",
    "            f\"{yval:.2f}\",\n",
    "            va=\"bottom\",\n",
    "            ha=\"center\",\n",
    "        )\n",
    "\n",
    "    plt.xlabel(\"Machine\")\n",
    "    plt.ylabel(\"Total Processing Time (Load)\")\n",
    "    plt.title(\"Machine Load Distribution\")\n",
    "    plt.legend()\n",
    "    plt.grid(axis=\"y\", linestyle=\":\", alpha=0.7)\n",
    "    plt.ylim(0, makespan_value * 1.15)\n",
    "    plt.tight_layout()\n",
    "    plt.show()\n",
    "\n",
    "\n",
    "def plot_gantt_chart(analysis_results):\n",
    "    assignment = analysis_results['assignment']\n",
    "    makespan_value = analysis_results['makespan_value']\n",
    "    job_times = analysis_results['job_times']\n",
    "    num_machines_instance = analysis_results['num_machines']\n",
    "    num_jobs_instance = len(job_times)\n",
    "    \n",
    "    # --- 可視化2: ガントチャート ---\n",
    "    # このチャートは各機械に割り当てられたジョブを順番に表示します。\n",
    "    # 横軸は時間を表します。\n",
    "\n",
    "    fig, ax = plt.subplots(figsize=(12, max(4, num_machines_instance * 0.8)))\n",
    "    machine_end_times = np.zeros(num_machines_instance)\n",
    "\n",
    "    base_cmap = plt.colormaps.get_cmap(\"tab20\")\n",
    "    job_colors = [base_cmap((i % 20) / 20) for i in range(num_jobs_instance)]  # ジョブごとに異なる色\n",
    "\n",
    "    print(\"\\nGenerating Gantt-style assignment chart...\")\n",
    "\n",
    "    # 機械とそれに割り当てられたジョブを反復処理\n",
    "    for m_idx in range(num_machines_instance):\n",
    "        assigned_job_indices = sorted(assignment.get(m_idx, []))\n",
    "\n",
    "        for job_idx in assigned_job_indices:\n",
    "            if 0 <= job_idx < len(job_times):\n",
    "                job_time = job_times[job_idx]\n",
    "                start_plot_time = machine_end_times[m_idx]\n",
    "\n",
    "                # ジョブのバーをプロット\n",
    "                ax.barh(\n",
    "                    m_idx,\n",
    "                    job_time,\n",
    "                    left=start_plot_time,\n",
    "                    height=0.6,\n",
    "                    align=\"center\",\n",
    "                    color=job_colors[job_idx % len(job_colors)],\n",
    "                    edgecolor=\"black\",\n",
    "                    alpha=0.8,\n",
    "                )\n",
    "\n",
    "                text_x = start_plot_time + job_time / 2.0\n",
    "                text_y = m_idx\n",
    "                ax.text(\n",
    "                    text_x,\n",
    "                    text_y,\n",
    "                    f\"J{job_idx}\",\n",
    "                    va=\"center\",\n",
    "                    ha=\"center\",\n",
    "                    color=\"white\",\n",
    "                    fontweight=\"bold\",\n",
    "                    fontsize=9,\n",
    "                )\n",
    "\n",
    "                machine_end_times[m_idx] += job_time\n",
    "            else:\n",
    "                print(\n",
    "                    f\"Skipping plotting for invalid job index {job_idx} on machine {m_idx}\"\n",
    "                )\n",
    "\n",
    "    # --- プロットの外観を設定 ---\n",
    "    ax.set_xlabel(\"Execution Time\")\n",
    "    ax.set_ylabel(\"Machine Number\")\n",
    "    # y軸の目盛りを機械インデックスに合わせる\n",
    "    ax.set_yticks(range(num_machines_instance))\n",
    "    ax.set_yticklabels(\n",
    "        [f\"{m}\" for m in range(num_machines_instance)]\n",
    "    )\n",
    "    ax.set_title(\"Gantt-Style Chart: Job Assignments per Machine\")\n",
    "\n",
    "    ax.invert_yaxis()  # 機械0を上部に表示\n",
    "    plt.grid(axis=\"x\", linestyle=\":\", alpha=0.6)\n",
    "    plt.xlim(0, makespan_value * 1.05)\n",
    "    plt.tight_layout()\n",
    "    plt.show()"
   ]
  },
  {
   "cell_type": "markdown",
   "metadata": {},
   "source": [
    "## 6. ステップ1：小さいインスタンスを解く\n",
    "\n",
    "まず、ジョブショップスケジューリング問題の小さなインスタンスを解いてみます。\n",
    "\n",
    "### 6-1. インスタンスデータの準備"
   ]
  },
  {
   "cell_type": "code",
   "execution_count": null,
   "metadata": {},
   "outputs": [],
   "source": [
    "# 例: それぞれの処理時間を持つ10個のジョブ\n",
    "job_times_data = [5, 8, 3, 6, 9, 4, 7, 5, 2, 8]\n",
    "# 例: 3台の機械が利用可能\n",
    "num_machines_data = 3\n",
    "\n",
    "# JijModelingプレースホルダに必要な辞書形式でデータを準備\n",
    "instance_data = {\n",
    "    \"JT\": job_times_data,\n",
    "    \"M\": num_machines_data,\n",
    "}\n",
    "\n",
    "print(\"Instance Data:\")\n",
    "print(f\"  Job Processing Times (JT): {instance_data['JT']}\")\n",
    "print(f\"  Number of Machines (M): {instance_data['M']}\")\n",
    "print(f\"  Number of Jobs (N derived): {len(instance_data['JT'])}\")"
   ]
  },
  {
   "cell_type": "markdown",
   "metadata": {},
   "source": [
    "### 6-2. JijModelingによるインスタンスの作成"
   ]
  },
  {
   "cell_type": "code",
   "execution_count": null,
   "metadata": {},
   "outputs": [],
   "source": [
    "# 1. 特定のインスタンスデータで問題を評価するためのインタープリタを作成\n",
    "interpreter = jm.Interpreter(instance_data)\n",
    "# 2. 問題を評価してソルバー用の具体的なインスタンスを作成\n",
    "instance = interpreter.eval_problem(problem)"
   ]
  },
  {
   "cell_type": "markdown",
   "metadata": {},
   "source": [
    "### 6-3. JijZept Solverを使用したインスタンスの求解\n",
    "\n",
    "上で作成したインスタンスを、JijZept Solverを使って求解します。"
   ]
  },
  {
   "cell_type": "code",
   "execution_count": null,
   "metadata": {},
   "outputs": [],
   "source": [
    "# JijZept Solverをインポート\n",
    "import jijzept_solver\n",
    "\n",
    "# JijZept Solverを使用してインスタンスを求解\n",
    "solution = jijzept_solver.solve(instance, time_limit_sec=3.0)"
   ]
  },
  {
   "cell_type": "markdown",
   "metadata": {},
   "source": [
    "### 6-4. 結果の可視化\n",
    "\n",
    "JijZept Solverから返された `solution` オブジェクトから、結果を見てみます。"
   ]
  },
  {
   "cell_type": "code",
   "execution_count": null,
   "metadata": {},
   "outputs": [],
   "source": [
    "# 結果を解析\n",
    "results_small = analyze_schedule_results(solution, instance_data)"
   ]
  },
  {
   "cell_type": "markdown",
   "metadata": {},
   "source": [
    "グラフによる可視化を行います。各機械の総処理時間を計算し、算出されたメイクスパンと一致することが確認できます。"
   ]
  },
  {
   "cell_type": "code",
   "execution_count": null,
   "metadata": {},
   "outputs": [],
   "source": [
    "# 各機械の処理時間の棒グラフを表示\n",
    "plot_machine_load_chart(results_small)"
   ]
  },
  {
   "cell_type": "code",
   "execution_count": null,
   "metadata": {},
   "outputs": [],
   "source": [
    "# 各機械の処理時間のガントチャートを表示\n",
    "plot_gantt_chart(results_small)"
   ]
  },
  {
   "cell_type": "markdown",
   "metadata": {},
   "source": [
    "## 7. ステップ2：大きいインスタンスを解く\n",
    "\n",
    "次に、より大きなインスタンスを解いてみます。\n",
    "\n",
    "### 7-1. インスタンスデータの準備"
   ]
  },
  {
   "cell_type": "code",
   "execution_count": null,
   "metadata": {},
   "outputs": [],
   "source": [
    "# 例: 500個のジョブ（10個のジョブ*50）それぞれの処理時間\n",
    "job_times_data_large = [5, 8, 3, 6, 9, 4, 7, 5, 2, 8] * 50\n",
    "\n",
    "# 例: 100台の機械が利用可能\n",
    "num_machines_data_large = 100\n",
    "\n",
    "# JijModelingプレースホルダに必要な辞書形式でデータを準備\n",
    "instance_data_large = {\n",
    "    \"JT\": job_times_data_large,\n",
    "    \"M\": num_machines_data_large,\n",
    "}\n",
    "\n",
    "print(\"Large Instance Data:\")\n",
    "print(f\"  Job Processing Times (JT): {instance_data_large['JT'][:10]}... (showing first 10)\")\n",
    "print(f\"  Number of Machines (M): {instance_data_large['M']}\")\n",
    "print(f\"  Number of Jobs (N derived): {len(instance_data_large['JT'])}\")"
   ]
  },
  {
   "cell_type": "markdown",
   "metadata": {},
   "source": [
    "### 7-2. JijModelingによるインスタンスの作成"
   ]
  },
  {
   "cell_type": "code",
   "execution_count": null,
   "metadata": {},
   "outputs": [],
   "source": [
    "# 1. 特定のインスタンスデータで問題を評価するためのインタープリタを作成\n",
    "interpreter_large = jm.Interpreter(instance_data_large)\n",
    "# 2. 問題を評価してソルバー用の具体的なインスタンスを作成\n",
    "instance_large = interpreter_large.eval_problem(problem)"
   ]
  },
  {
   "cell_type": "markdown",
   "metadata": {},
   "source": [
    "### 7-3. SCIPを使用したインスタンスの求解（OMMXPySCIPOptAdapter）\n",
    "\n",
    "今回は、2つのソルバー（JijZeptSolver, SCIP）での求解を試してみます。\n",
    "まずは、ommx-pyscipopt-adapterによって提供されるSCIPで解いてみます。"
   ]
  },
  {
   "cell_type": "code",
   "execution_count": null,
   "metadata": {},
   "outputs": [],
   "source": [
    "# 必要なアダプターをインポート\n",
    "from ommx_pyscipopt_adapter import OMMXPySCIPOptAdapter\n",
    "\n",
    "# OMMX SCIPアダプターを使用してインスタンスを求解\n",
    "adapter = OMMXPySCIPOptAdapter(instance_large)\n",
    "model = adapter.solver_input\n",
    "model.setParam(\"limits/time\", 3.0)\n",
    "model.optimize()\n",
    "solution_large_scip = adapter.decode(model)"
   ]
  },
  {
   "cell_type": "code",
   "execution_count": null,
   "metadata": {},
   "outputs": [],
   "source": [
    "# 結果を解析\n",
    "results_large_scip = analyze_schedule_results(solution_large_scip, instance_data_large)"
   ]
  },
  {
   "cell_type": "code",
   "execution_count": null,
   "metadata": {},
   "outputs": [],
   "source": [
    "# 各機械の処理時間の棒グラフを表示\n",
    "plot_machine_load_chart(results_large_scip)"
   ]
  },
  {
   "cell_type": "code",
   "execution_count": null,
   "metadata": {},
   "outputs": [],
   "source": [
    "# 各機械の処理時間のガントチャートを表示\n",
    "plot_gantt_chart(results_large_scip)"
   ]
  },
  {
   "cell_type": "markdown",
   "metadata": {},
   "source": [
    "### 7-4. JijZept Solverを使用したインスタンスの求解\n",
    "\n",
    "次に、JijZept Solverで解きます。"
   ]
  },
  {
   "cell_type": "code",
   "execution_count": null,
   "metadata": {},
   "outputs": [],
   "source": [
    "# JijZept Solverを使用してインスタンスを求解\n",
    "solution_large_jijzept_solver = jijzept_solver.solve(instance_large, time_limit_sec=3.0)"
   ]
  },
  {
   "cell_type": "code",
   "execution_count": null,
   "metadata": {},
   "outputs": [],
   "source": [
    "# 結果を解析\n",
    "results_large_jijzept_solver = analyze_schedule_results(solution_large_jijzept_solver, instance_data_large)"
   ]
  },
  {
   "cell_type": "code",
   "execution_count": null,
   "metadata": {},
   "outputs": [],
   "source": [
    "# 各機械の処理時間の棒グラフを表示\n",
    "plot_machine_load_chart(results_large_jijzept_solver)"
   ]
  },
  {
   "cell_type": "code",
   "execution_count": null,
   "metadata": {
    "scrolled": true
   },
   "outputs": [],
   "source": [
    "# 各機械の処理時間のガントチャートを表示\n",
    "plot_gantt_chart(results_large_jijzept_solver)"
   ]
  },
  {
   "cell_type": "markdown",
   "metadata": {},
   "source": [
    "## 8. まとめ\n",
    "\n",
    "このノートブックでは、**ジョブショップスケジューリング問題**をJijModelingで定式化し、JijZept Solverを使って最適化を行いました。\n",
    "\n",
    "実施した内容：\n",
    "* 複数のジョブを並列機械に効率的に割り当てる問題を設定し、全体の処理完了時間（メイクスパン）を最小化する目的関数を定義しました\n",
    "* JijModelingを活用して、ジョブの機械への割り当てを表すバイナリ変数 `x[i, m]` と、メイクスパンを表す連続変数を用いた数理モデルを構築しました\n",
    "* 各ジョブが必ず1つの機械に割り当てられること、各機械の処理時間がメイクスパン以下になることを制約として設定しました\n",
    "* 小規模と大規模の2つのインスタンスで検証を実施しました\n",
    "* 求解結果をガントチャート等で可視化し、最適化の効果を確認しました\n",
    "\n",
    "今回は比較的シンプルなモデルでJijZept Solverの使い方を体験していただきました。\n",
    "\n",
    "より複雑な制約条件や大規模なインスタンスを持つ実務的な最適化問題においても、JijZept Solverを活用することができます。"
   ]
  }
 ],
 "metadata": {
  "kernelspec": {
   "display_name": "Python 3 (ipykernel)",
   "language": "python",
   "name": "python3"
  },
  "language_info": {
   "codemirror_mode": {
    "name": "ipython",
    "version": 3
   },
   "file_extension": ".py",
   "mimetype": "text/x-python",
   "name": "python",
   "nbconvert_exporter": "python",
   "pygments_lexer": "ipython3",
   "version": "3.11.10"
  }
 },
 "nbformat": 4,
 "nbformat_minor": 4
}
