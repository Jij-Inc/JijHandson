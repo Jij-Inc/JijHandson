{
 "cells": [
  {
   "cell_type": "markdown",
   "metadata": {},
   "source": [
    "# JijZept Solverを用いたハンズオン\n",
    "\n",
    "## パッケージのインストール\n",
    "まず、このノートブックに必要なパッケージをインストールしましょう。"
   ]
  },
  {
   "cell_type": "code",
   "execution_count": null,
   "metadata": {},
   "outputs": [],
   "source": [
    "# 必要なパッケージをインストール\n",
    "!pip install jijzept_solver jijmodeling ommx_pyscipopt_adapter"
   ]
  },
  {
   "cell_type": "markdown",
   "metadata": {},
   "source": [
    "# JijZept Solver 環境設定"
   ]
  },
  {
   "cell_type": "code",
   "execution_count": null,
   "metadata": {},
   "outputs": [],
   "source": [
    "import os\n",
    "\n",
    "os.environ[\"JIJZEPT_SOLVER_SERVER_HOST\"] = \"APIサーバーのホスト名\"\n",
    "os.environ[\"JIJZEPT_SOLVER_ACCESS_TOKEN\"] = \"アクセストークン\""
   ]
  },
  {
   "cell_type": "markdown",
   "metadata": {},
   "source": [
    "# 簡略化されたジョブスケジューリング問題の解説\n",
    "\n",
    "## 1. はじめに：スケジューリングの課題\n",
    "\n",
    "スケジューリング問題は、多くの産業や実世界のシナリオで一般的です。一般的な目標は、タスク（または「ジョブ」）を利用可能なリソース（「機械」や作業者など）に時間的に割り当て、様々な制約を遵守しながら、特定の目的（コストや完了時間の最小化など）を達成することです。\n",
    "\n",
    "これらの問題は以下の理由により、すぐに非常に複雑になる可能性があります：\n",
    "\n",
    "* **組み合わせ的性質：** 可能なスケジュールの数が膨大になることがよくあります。\n",
    "* **制約：** リソースの可用性、タスクの依存関係（優先順位）、締切、セットアップ時間などのルールが難易度の層を追加します。\n",
    "\n",
    "例としては、工場の生産計画、プロジェクトタスク管理、物流ルーティング、オペレーティングシステムのタスクスケジューリングなどがあります。数理最適化は、これらの困難な問題に対して最適または近似最適な解を見つけるための強力なフレームワークを提供します。\n",
    "\n",
    "## 2. 焦点：並列機械スケジューリング問題（PMSP）\n",
    "\n",
    "このノートブックでは、**並列機械スケジューリング問題（PMSP）** として知られる、基本的で広く適用可能なタイプのスケジューリング問題に焦点を当てます。\n",
    "\n",
    "**PMSPのセットアップ：**\n",
    "\n",
    "* 複数の独立した**ジョブ**があります。各ジョブは実行する必要がある単一のタスクを表します。\n",
    "* 並列に動作する複数の同一（または関連）**機械**があります。\n",
    "* 各ジョブ `i` には、どの機械で実行されるかに関係なく、完了するために必要な特定の**処理時間**（`JT[i]`）があります。\n",
    "* 各ジョブは**正確に1つ**の機械に割り当てる必要があります。\n",
    "* 機械は複数のジョブを処理できますが、**一度に1つのジョブのみ**処理できます。"
   ]
  },
  {
   "cell_type": "markdown",
   "metadata": {},
   "source": [
    "**目標（目的）：**\n",
    "\n",
    "私たちの主な目的は**メイクスパンを最小化する**ことです。\n",
    "\n",
    "* **メイクスパン：** *すべて*の機械にわたって*最後*のジョブが終了する時間。これは、割り当てられたすべてのジョブを完了するのに最も長くかかる機械によって決定されます。\n",
    "* **目的：** 最も忙しい機械の完了時間が最小化されるようなジョブから機械への割り当てを見つけます。これにより、利用可能な機械全体でワークロードが効果的にバランスされます。\n",
    "\n",
    "このノートブックでは、JijModelingとJijZept Solverを使用して、このPMSPをモデル化・求解する方法を示します。"
   ]
  },
  {
   "cell_type": "markdown",
   "metadata": {},
   "source": [
    "## 3. 問題の構成要素（PMSP）\n",
    "\n",
    "PMSPモデルの主要な要素を定義しましょう：\n",
    "\n",
    "* **ジョブ：** スケジュールされる独立したタスクのセット（インデックス `i = 0, 1, ..., N-1`）。\n",
    "* **機械：** ジョブを処理するために利用可能な並列リソースのセット（インデックス `m = 0, 1, ..., M-1`）。\n",
    "* **処理時間（`JT[i]`）：** 任意の機械でジョブ `i` を完了するために必要な時間。\n",
    "\n",
    "## 4. 目的関数（メイクスパンの最小化）\n",
    "\n",
    "前述のように、目標はメイクスパンを最小化することです。これは、すべての機械の中で最大の完了時間です。"
   ]
  },
  {
   "cell_type": "markdown",
   "metadata": {},
   "source": [
    "## 5. 主要な制約（PMSP）\n",
    "\n",
    "有効なスケジュールを確保するために、2つの主要なタイプの制約が必要です：\n",
    "\n",
    "1.  **ジョブ割り当て制約：** すべてのジョブは正確に1つの機械に割り当てる必要があります。\n",
    "    * 数学的に：各ジョブ `i` について、すべての機械 `m` にわたる割り当て `x[i, m]` の合計は 1 に等しくなければなりません。\n",
    "2.  **メイクスパン制約：** メイクスパンは、*任意の*機械 `m` の総処理時間（負荷）以上でなければなりません。\n",
    "    * 数学的に：各機械 `m` について、割り当てられたすべてのジョブ `i` の処理時間 `JT[i]` の合計（`JT[i] * x[i, m]`）は、`makespan` 変数以下でなければなりません。\n",
    "\n",
    "これらの制約の下で `makespan` 変数を最小化することにより、オプティマイザは負荷をバランスし、最大負荷を最小化する割り当てを見つけることを余儀なくされます。"
   ]
  },
  {
   "cell_type": "markdown",
   "metadata": {},
   "source": [
    "## 6. 数理モデルの定義（JijModeling）\n",
    "\n",
    "それでは、JijModelingを使用してこのPMSPを表現しましょう。"
   ]
  },
  {
   "cell_type": "code",
   "execution_count": null,
   "metadata": {},
   "outputs": [],
   "source": [
    "# 必要なライブラリをインポート\n",
    "import jijmodeling as jm\n",
    "\n",
    "# --- 1. プレースホルダ（入力データ） ---\n",
    "# JT[i]: ジョブiの処理時間\n",
    "JT = jm.Placeholder(\"JT\", ndim=1, description=\"ジョブiの処理時間\")\n",
    "# N: ジョブ数（JTの長さから導出）\n",
    "N = JT.len_at(0, latex=\"N\", description=\"ジョブ数\")\n",
    "# M: 機械数\n",
    "M = jm.Placeholder(\"M\", description=\"機械数\")\n",
    "\n",
    "# --- 2. 要素（インデックス） ---\n",
    "# i: ジョブのインデックス（0からN-1）\n",
    "i = jm.Element(\"i\", belong_to=(0, N), description=\"ジョブのインデックス\")\n",
    "# m: 機械のインデックス（0からM-1）\n",
    "m = jm.Element(\"m\", belong_to=(0, M), description=\"機械のインデックス\")\n",
    "\n",
    "# --- 3. 変数（決定変数と補助変数） ---\n",
    "# x[i, m]: バイナリ変数、ジョブiが機械mに割り当てられる場合は1、そうでない場合は0\n",
    "x = jm.BinaryVar(\n",
    "    \"x\",\n",
    "    shape=(N, M),\n",
    "    description=\"x[i, m]: ジョブiが機械mに割り当てられる場合は1、そうでない場合は0\",\n",
    ")\n",
    "# makespan: すべての機械にわたる最大完了時間を表す連続変数\n",
    "makespan = jm.ContinuousVar(\n",
    "    \"makespan\",\n",
    "    lower_bound=0,\n",
    "    upper_bound=jm.sum(i, JT[i]),\n",
    "    description=\"メイクスパン：すべての機械にわたる最後のジョブの完了時間\",\n",
    ")\n",
    "\n",
    "# --- 4. 問題の定義 ---\n",
    "problem = jm.Problem(\"並列機械スケジューリング\")\n",
    "\n",
    "# --- 5. 制約 ---\n",
    "# 制約1：各ジョブ 'i' は正確に1つの機械 'm' に割り当てられなければならない\n",
    "problem += jm.Constraint(\n",
    "    \"ジョブ割り当て\",\n",
    "    jm.sum(m, x[i, m]) == 1,\n",
    "    forall=i,\n",
    ")\n",
    "# 制約2：任意の機械 'm' の総処理時間はメイクスパン以下でなければならない\n",
    "problem += jm.Constraint(\n",
    "    \"機械ごとの最大時間\",\n",
    "    jm.sum(i, JT[i] * x[i, m]) <= makespan,\n",
    "    forall=m,\n",
    ")\n",
    "\n",
    "# --- 6. 目的関数 ---\n",
    "# メイクスパンを最小化\n",
    "problem += makespan\n",
    "\n",
    "problem"
   ]
  },
  {
   "cell_type": "markdown",
   "metadata": {},
   "source": [
    "上記のコードは、並列機械スケジューリング問題の数理モデルを定義しています。\n",
    "\n",
    "* `x[i, m]` はコアとなる**決定**を表します：どの機械がどのジョブを取得するか。\n",
    "* `makespan` は最小化したい全体的なスケジュールの**パフォーマンス**（完了時間）を表します。\n",
    "* `Job_Assignment` 制約は、すべてのジョブが処理されることを保証します。\n",
    "* `Max_Time_per_Machine` 制約は、割り当てをメイクスパンにリンクし、メイクスパンが最も忙しい機械に対応できるほど大きいことを保証します。`makespan` を最小化すると、暗黙的に負荷がバランスされます。\n",
    "\n",
    "## 7. 結果解析と可視化関数\n",
    "\n",
    "結果の解析と可視化を再利用可能にするため、関数として定義します。"
   ]
  },
  {
   "cell_type": "code",
   "execution_count": null,
   "metadata": {},
   "outputs": [],
   "source": [
    "# 必要に応じてプロットライブラリをインポート\n",
    "import matplotlib.pyplot as plt\n",
    "import numpy as np\n",
    "import pandas as pd  # DataFrameの表示用\n",
    "\n",
    "def analyze_schedule_results(solution, instance_data):\n",
    "    x_result: dict[tuple[int, ...], float] = solution.extract_decision_variables(\"x\")\n",
    "    \n",
    "    makespan_value = solution.objective\n",
    "    print(f\"\\n--- Solver Results ---\")\n",
    "    print(f\"Makespan: {makespan_value:.2f}\")\n",
    "    assignment = {}  # {機械インデックス: [ジョブインデックス, ...]}\n",
    "    assigned_jobs_flat = (\n",
    "        []\n",
    "    )  # DataFrameに格納するデータ: [{'Job': i, 'Machine': m, 'Time': t}]\n",
    "    x_result = {}\n",
    "\n",
    "    x_result = solution.extract_decision_variables(\"x\")\n",
    "\n",
    "    # 抽出したx_result辞書を処理\n",
    "    num_machines_instance = instance_data[\"M\"]\n",
    "    for indices, val in x_result.items():\n",
    "        # indicesは(i, m)のようなタプルであるべき\n",
    "        if len(indices) == 2 and val > 0.5:  # バイナリ '1' をチェック\n",
    "            i, m = indices  # インデックスをアンパック\n",
    "            if m not in assignment:\n",
    "                assignment[m] = []\n",
    "            assignment[m].append(i)\n",
    "            # JTにアクセスする前にジョブインデックスiが有効であることを確認\n",
    "            if 0 <= i < len(instance_data[\"JT\"]):\n",
    "                assigned_jobs_flat.append(\n",
    "                    {\"Job\": i, \"Machine\": m, \"Time\": instance_data[\"JT\"][i]}\n",
    "                )\n",
    "            else:\n",
    "                print(\n",
    "                    f\"Warning: Invalid job index {i} found in solution variable 'x' for machine {m}.\"\n",
    "                )\n",
    "\n",
    "    print(\"\\nJob Assignments per Machine:\")\n",
    "    if assignment:\n",
    "        for m_idx in range(num_machines_instance):\n",
    "            assigned_jobs = sorted(assignment.get(m_idx, []))\n",
    "            print(f\"  Machine {m_idx}: Jobs {assigned_jobs}\")\n",
    "    else:\n",
    "        # 解が得られたにもかかわらずx_result抽出が失敗または空の場合に発生する可能性がある\n",
    "        print(\"  No assignments could be extracted from 'x' variables.\")\n",
    "\n",
    "    # Pandas DataFrameを使用して割り当てを明確に表示\n",
    "    if assigned_jobs_flat:\n",
    "        assignment_df = pd.DataFrame(assigned_jobs_flat)\n",
    "        print(\"\\nAssignment Details (DataFrame):\")\n",
    "        print(\n",
    "            assignment_df.sort_values(by=[\"Machine\", \"Job\"]).reset_index(\n",
    "                drop=True\n",
    "            )\n",
    "        )\n",
    "    else:\n",
    "        print(\"\\nAssignment Details (DataFrame): Empty\")\n",
    "        assignment_df = pd.DataFrame()\n",
    "    \n",
    "    # --- 解析: 機械負荷の計算 ---\n",
    "    print(\"\\n--- Result Analysis ---\")\n",
    "    print(\"Total Processing Time (Load) per Machine:\")\n",
    "    machine_loads = {m: 0 for m in range(num_machines_instance)}\n",
    "    machine_load_list = []  # プロットと検証用に負荷を格納\n",
    "    job_times = instance_data[\"JT\"]  # 便宜上のエイリアス\n",
    "\n",
    "    # 'assignment' 辞書から直接負荷を計算\n",
    "    for m_idx in range(num_machines_instance):\n",
    "        load = 0\n",
    "        assigned_job_indices = assignment.get(m_idx, [])\n",
    "        for job_idx in assigned_job_indices:\n",
    "            if 0 <= job_idx < len(job_times):\n",
    "                load += job_times[job_idx]\n",
    "            else:\n",
    "                print(\n",
    "                    f\"Warning: Invalid job index {job_idx} found for machine {m_idx} during load calculation.\"\n",
    "                )\n",
    "        machine_loads[m_idx] = load\n",
    "        machine_load_list.append(load)\n",
    "        print(f\"  Machine {m_idx}: {load:.2f}\")\n",
    "\n",
    "    # --- 検証 ---\n",
    "    calculated_max_load = max(machine_load_list) if machine_load_list else 0\n",
    "    print(f\"\\nCalculated Maximum Machine Load: {calculated_max_load:.2f}\")\n",
    "    print(f\"(Solver's Makespan: {makespan_value:.2f})\")\n",
    "    # 浮動小数点比較のための小さな許容誤差を使用\n",
    "    if abs(calculated_max_load - makespan_value) < 1e-6:\n",
    "        print(\"-> Verification successful: Makespan matches the maximum machine load.\")\n",
    "    else:\n",
    "        print(\n",
    "            \"-> WARNING: Makespan does NOT match the calculated maximum load. Check model/solver.\"\n",
    "        )\n",
    "    \n",
    "    return {\n",
    "        'makespan_value': makespan_value,\n",
    "        'assignment': assignment,\n",
    "        'machine_loads': machine_loads,\n",
    "        'machine_load_list': machine_load_list,\n",
    "        'assignment_df': assignment_df,\n",
    "        'job_times': job_times,\n",
    "        'num_machines': num_machines_instance\n",
    "    }\n",
    "\n",
    "\n",
    "def plot_machine_load_chart(analysis_results):\n",
    "    makespan_value = analysis_results['makespan_value']\n",
    "    machine_load_list = analysis_results['machine_load_list']\n",
    "    num_machines_instance = analysis_results['num_machines']\n",
    "    \n",
    "    # --- 可視化1: 機械負荷の棒グラフ ---\n",
    "    print(\"\\n--- Visualization ---\")\n",
    "    plt.figure(figsize=(8, 5))\n",
    "    machines = [f\"Machine {m}\" for m in range(num_machines_instance)]\n",
    "    bars = plt.bar(machines, machine_load_list, color=\"skyblue\", edgecolor=\"black\")\n",
    "    plt.axhline(\n",
    "        makespan_value,\n",
    "        color=\"red\",\n",
    "        linestyle=\"--\",\n",
    "        label=f\"Makespan ({makespan_value:.2f})\",\n",
    "    )\n",
    "\n",
    "    for bar in bars:\n",
    "        yval = bar.get_height()\n",
    "        plt.text(\n",
    "            bar.get_x() + bar.get_width() / 2.0,\n",
    "            yval,\n",
    "            f\"{yval:.2f}\",\n",
    "            va=\"bottom\",\n",
    "            ha=\"center\",\n",
    "        )\n",
    "\n",
    "    plt.xlabel(\"Machine\")\n",
    "    plt.ylabel(\"Total Processing Time (Load)\")\n",
    "    plt.title(\"Machine Load Distribution\")\n",
    "    plt.legend()\n",
    "    plt.grid(axis=\"y\", linestyle=\":\", alpha=0.7)\n",
    "    plt.ylim(0, makespan_value * 1.15)\n",
    "    plt.tight_layout()\n",
    "    plt.show()\n",
    "\n",
    "\n",
    "def plot_gantt_chart(analysis_results):\n",
    "    assignment = analysis_results['assignment']\n",
    "    makespan_value = analysis_results['makespan_value']\n",
    "    job_times = analysis_results['job_times']\n",
    "    num_machines_instance = analysis_results['num_machines']\n",
    "    num_jobs_instance = len(job_times)\n",
    "    \n",
    "    # --- 可視化2: 割り当てのガントチャート ---\n",
    "    # このチャートは各機械に割り当てられたジョブを順番に表示します。\n",
    "    # 横軸は時間を表します。\n",
    "    # ユーザー提供のスニペットのロジックに基づいています。\n",
    "\n",
    "    fig, ax = plt.subplots(figsize=(12, max(4, num_machines_instance * 0.8)))\n",
    "    # 各機械の現在の終了時間を追跡\n",
    "    machine_end_times = np.zeros(num_machines_instance)\n",
    "    job_colors = plt.cm.get_cmap(\"tab20\", num_jobs_instance)  # ジョブごとに異なる色\n",
    "\n",
    "    print(\"\\nGenerating Gantt-style assignment chart...\")\n",
    "\n",
    "    # 機械とそれに割り当てられたジョブを反復処理\n",
    "    for m_idx in range(num_machines_instance):\n",
    "        # この機械に割り当てられたジョブを取得、一貫性のあるプロット用にソート（オプション）\n",
    "        assigned_job_indices = sorted(assignment.get(m_idx, []))\n",
    "\n",
    "        for job_idx in assigned_job_indices:\n",
    "            if 0 <= job_idx < len(job_times):\n",
    "                job_time = job_times[job_idx]\n",
    "                start_plot_time = machine_end_times[m_idx]\n",
    "\n",
    "                # ジョブのバーをプロット\n",
    "                ax.barh(\n",
    "                    m_idx,\n",
    "                    job_time,\n",
    "                    left=start_plot_time,\n",
    "                    height=0.6,\n",
    "                    align=\"center\",\n",
    "                    color=job_colors(job_idx % job_colors.N),\n",
    "                    edgecolor=\"black\",\n",
    "                    alpha=0.8,\n",
    "                )\n",
    "\n",
    "                # バーの内側にジョブインデックステキストを追加\n",
    "                # より良い視認性のためにテキスト位置をわずかに調整\n",
    "                text_x = start_plot_time + job_time / 2.0\n",
    "                text_y = m_idx  # バーの高さ内で垂直方向に中央揃え\n",
    "                ax.text(\n",
    "                    text_x,\n",
    "                    text_y,\n",
    "                    f\"J{job_idx}\",\n",
    "                    va=\"center\",\n",
    "                    ha=\"center\",\n",
    "                    color=\"white\",\n",
    "                    fontweight=\"bold\",\n",
    "                    fontsize=9,\n",
    "                )\n",
    "\n",
    "                # この機械の終了時間を更新\n",
    "                machine_end_times[m_idx] += job_time\n",
    "            else:\n",
    "                # 抽出が機能した場合、この条件は理想的には満たされない\n",
    "                print(\n",
    "                    f\"Skipping plotting for invalid job index {job_idx} on machine {m_idx}\"\n",
    "                )\n",
    "\n",
    "    # --- プロットの外観を設定 ---\n",
    "    ax.set_xlabel(\"Execution Time\")\n",
    "    ax.set_ylabel(\"Machine Number\")\n",
    "    # y軸の目盛りを機械インデックスに合わせる\n",
    "    ax.set_yticks(range(num_machines_instance))\n",
    "    ax.set_yticklabels(\n",
    "        [f\"{m}\" for m in range(num_machines_instance)]\n",
    "    )  # 目盛りラベルを機械番号で表示\n",
    "    ax.set_title(\"Gantt-Style Chart: Job Assignments per Machine\")\n",
    "\n",
    "    # 外観を改善\n",
    "    ax.invert_yaxis()  # 機械0を上部に表示\n",
    "    plt.grid(axis=\"x\", linestyle=\":\", alpha=0.6)\n",
    "    # 明確さのためにx軸の制限をメイクスパンよりわずかに超えて設定\n",
    "    plt.xlim(0, makespan_value * 1.05)\n",
    "    plt.tight_layout()\n",
    "    plt.show()"
   ]
  },
  {
   "cell_type": "markdown",
   "metadata": {},
   "source": [
    "## 8. ステップ1：小さなインスタンス\n",
    "\n",
    "まず、PMSPの動作を理解するために小さなインスタンスから始めましょう。\n",
    "\n",
    "### 8-1. インスタンスデータの準備"
   ]
  },
  {
   "cell_type": "code",
   "execution_count": null,
   "metadata": {},
   "outputs": [],
   "source": [
    "# 例: それぞれの処理時間を持つ10個のジョブ\n",
    "job_times_data = [5, 8, 3, 6, 9, 4, 7, 5, 2, 8]\n",
    "# 例: 3台の機械が利用可能\n",
    "num_machines_data = 3\n",
    "\n",
    "# JijModelingプレースホルダに必要な辞書形式でデータを準備\n",
    "instance_data = {\n",
    "    \"JT\": job_times_data,\n",
    "    \"M\": num_machines_data,\n",
    "}\n",
    "\n",
    "print(\"Instance Data:\")\n",
    "print(f\"  Job Processing Times (JT): {instance_data['JT']}\")\n",
    "print(f\"  Number of Machines (M): {instance_data['M']}\")\n",
    "print(f\"  Number of Jobs (N derived): {len(instance_data['JT'])}\")"
   ]
  },
  {
   "cell_type": "markdown",
   "metadata": {},
   "source": [
    "### 8-2. JijModelingによるインスタンスの作成"
   ]
  },
  {
   "cell_type": "code",
   "execution_count": null,
   "metadata": {},
   "outputs": [],
   "source": [
    "# 1. 特定のインスタンスデータで問題を評価するためのインタープリタを作成\n",
    "interpreter = jm.Interpreter(instance_data)\n",
    "# 2. 問題を評価してソルバー用の具体的なインスタンスを作成\n",
    "instance = interpreter.eval_problem(problem)"
   ]
  },
  {
   "cell_type": "markdown",
   "metadata": {},
   "source": [
    "### 8-3. JijZept Solverを使用したインスタンスの求解\n",
    "\n",
    "定義されたモデルとインスタンスデータに対して最適解を見つけるため、JijZept Solverを使って求解します。"
   ]
  },
  {
   "cell_type": "code",
   "execution_count": null,
   "metadata": {},
   "outputs": [],
   "source": [
    "# JijZept Solverをインポート\n",
    "import jijzept_solver\n",
    "\n",
    "# JijZept Solverを使用してインスタンスを求解\n",
    "solution = jijzept_solver.solve(instance, time_limit_sec=5.0)"
   ]
  },
  {
   "cell_type": "markdown",
   "metadata": {},
   "source": [
    "### 8-4. 結果の解釈と表示\n",
    "\n",
    "次に、ソルバーから返された `solution` オブジェクトを処理して、最適なメイクスパンとジョブの割り当てを抽出します。"
   ]
  },
  {
   "cell_type": "code",
   "execution_count": null,
   "metadata": {},
   "outputs": [],
   "source": [
    "# 結果を解析\n",
    "results_small = analyze_schedule_results(solution, instance_data)"
   ]
  },
  {
   "cell_type": "markdown",
   "metadata": {},
   "source": [
    "### 8-5. 結果の解析と可視化\n",
    "\n",
    "ソリューションをさらに解析し、可視化しましょう。各機械の総処理時間（負荷）を計算し、最大負荷が最適化されたメイクスパンと一致することを確認します。"
   ]
  },
  {
   "cell_type": "code",
   "execution_count": null,
   "metadata": {},
   "outputs": [],
   "source": [
    "# 機械負荷の棒グラフを表示\n",
    "plot_machine_load_chart(results_small)"
   ]
  },
  {
   "cell_type": "code",
   "execution_count": null,
   "metadata": {},
   "outputs": [],
   "source": [
    "# ガントチャートを表示\n",
    "plot_gantt_chart(results_small)"
   ]
  },
  {
   "cell_type": "markdown",
   "metadata": {},
   "source": [
    "## 9. ステップ2：大きなインスタンス\n",
    "\n",
    "次に、モデルがどのようにスケールするかを確認するために、より大きなインスタンスでテストしてみましょう。\n",
    "\n",
    "### 9-1. インスタンスデータの準備"
   ]
  },
  {
   "cell_type": "code",
   "execution_count": null,
   "metadata": {},
   "outputs": [],
   "source": [
    "# 例: 300個のジョブ（10個のジョブを30回繰り返し）それぞれの処理時間\n",
    "job_times_data_large = [5, 8, 3, 6, 9, 4, 7, 5, 2, 8] * 30\n",
    "# 例: 90台の機械が利用可能\n",
    "num_machines_data_large = 3 * 30\n",
    "\n",
    "# JijModelingプレースホルダに必要な辞書形式でデータを準備\n",
    "instance_data_large = {\n",
    "    \"JT\": job_times_data_large,\n",
    "    \"M\": num_machines_data_large,\n",
    "}\n",
    "\n",
    "print(\"Large Instance Data:\")\n",
    "print(f\"  Job Processing Times (JT): {instance_data_large['JT'][:10]}... (showing first 10)\")\n",
    "print(f\"  Number of Machines (M): {instance_data_large['M']}\")\n",
    "print(f\"  Number of Jobs (N derived): {len(instance_data_large['JT'])}\")"
   ]
  },
  {
   "cell_type": "markdown",
   "metadata": {},
   "source": [
    "### 9-2. JijModelingによるインスタンスの作成"
   ]
  },
  {
   "cell_type": "code",
   "execution_count": null,
   "metadata": {},
   "outputs": [],
   "source": [
    "# 1. 特定のインスタンスデータで問題を評価するためのインタープリタを作成\n",
    "interpreter_large = jm.Interpreter(instance_data_large)\n",
    "# 2. 問題を評価してソルバー用の具体的なインスタンスを作成\n",
    "instance_large = interpreter_large.eval_problem(problem)"
   ]
  },
  {
   "cell_type": "markdown",
   "metadata": {},
   "source": [
    "### 9-3. SCIPを使用したインスタンスの求解（OMMXPySCIPOptAdapter）\n",
    "\n",
    "ここでは、ommx-pyscipopt-adapterパッケージによって提供されるSCIPを使用します。"
   ]
  },
  {
   "cell_type": "code",
   "execution_count": null,
   "metadata": {},
   "outputs": [],
   "source": [
    "# 必要なアダプターをインポート\n",
    "from ommx_pyscipopt_adapter import OMMXPySCIPOptAdapter\n",
    "\n",
    "# OMMX SCIPアダプターを使用してインスタンスを求解\n",
    "adapter = OMMXPySCIPOptAdapter(instance_large)\n",
    "model = adapter.solver_input\n",
    "model.setParam(\"limits/time\", 5.0)\n",
    "model.optimize()\n",
    "solution_large_scip = adapter.decode(model)"
   ]
  },
  {
   "cell_type": "code",
   "execution_count": null,
   "metadata": {},
   "outputs": [],
   "source": [
    "# 結果を解析\n",
    "results_large_scip = analyze_schedule_results(solution_large_scip, instance_data_large)"
   ]
  },
  {
   "cell_type": "code",
   "execution_count": null,
   "metadata": {},
   "outputs": [],
   "source": [
    "# 機械負荷の棒グラフを表示\n",
    "plot_machine_load_chart(results_large_scip)"
   ]
  },
  {
   "cell_type": "code",
   "execution_count": null,
   "metadata": {},
   "outputs": [],
   "source": [
    "# ガントチャートを表示\n",
    "plot_gantt_chart(results_large_scip)"
   ]
  },
  {
   "cell_type": "markdown",
   "metadata": {},
   "source": [
    "### 9-4. JijZept Solverを使用したインスタンスの求解\n",
    "\n",
    "次に、JijZept Solverを使用します。"
   ]
  },
  {
   "cell_type": "code",
   "execution_count": null,
   "metadata": {},
   "outputs": [],
   "source": [
    "# JijZept Solverを使用してインスタンスを求解\n",
    "solution_large_jijzept_solver = jijzept_solver.solve(instance_large, time_limit_sec=5.0)"
   ]
  },
  {
   "cell_type": "code",
   "execution_count": null,
   "metadata": {},
   "outputs": [],
   "source": [
    "# 結果を解析\n",
    "results_large_jijzept_solver = analyze_schedule_results(solution_large_jijzept_solver, instance_data_large)"
   ]
  },
  {
   "cell_type": "code",
   "execution_count": null,
   "metadata": {},
   "outputs": [],
   "source": [
    "# 機械負荷の棒グラフを表示\n",
    "plot_machine_load_chart(results_large_jijzept_solver)"
   ]
  },
  {
   "cell_type": "code",
   "execution_count": null,
   "metadata": {},
   "outputs": [],
   "source": [
    "# ガントチャートを表示\n",
    "plot_gantt_chart(results_large_jijzept_solver)"
   ]
  },
  {
   "cell_type": "markdown",
   "metadata": {},
   "source": [
    "## 10. まとめ\n",
    "\n",
    "このノートブックでは、**並列機械スケジューリング問題（PMSP）** をモデル化し、解決する方法を示しました。\n",
    "\n",
    "* 問題を定義しました：独立したジョブを同一の並列機械に割り当てて、メイクスパン（最大機械完了時間）を最小化します。\n",
    "* JijModelingを使用して数理モデルを定式化し、割り当て用のバイナリ変数 `x[i, m]` と目的用の連続変数 `makespan` を定義しました。\n",
    "* 各ジョブが正確に1回割り当てられることを保証し、メイクスパンが任意の機械の最大負荷を正しく反映することを保証する制約を含めました。\n",
    "* 特定のインスタンスデータ（ジョブ処理時間、機械数）を提供しました。\n",
    "* 最後に、ソルバーのソリューションオブジェクトから結果を抽出して解釈し、計算された機械負荷に対してメイクスパンを検証し、プロットを使用して割り当てと負荷を可視化しました。\n",
    "\n",
    "このプロセスは、JijModelingのような数理最適化ライブラリをJijZept Solverと組み合わせることで、実用的なスケジューリングの課題に取り組む方法を示しています。同じ方法を、より複雑な問題に拡張することができます。"
   ]
  }
 ],
 "metadata": {
  "kernelspec": {
   "display_name": "Python 3 (ipykernel)",
   "language": "python",
   "name": "python3"
  },
  "language_info": {
   "codemirror_mode": {
    "name": "ipython",
    "version": 3
   },
   "file_extension": ".py",
   "mimetype": "text/x-python",
   "name": "python",
   "nbconvert_exporter": "python",
   "pygments_lexer": "ipython3",
   "version": "3.11.10"
  }
 },
 "nbformat": 4,
 "nbformat_minor": 4
}
