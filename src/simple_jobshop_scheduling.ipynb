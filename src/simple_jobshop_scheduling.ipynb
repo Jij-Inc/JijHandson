{
 "cells": [
  {
   "cell_type": "markdown",
   "metadata": {},
   "source": [
    "# Simplified Job Scheduling Problem Explained\n",
    "\n",
    "## 1. Introduction: The Challenge of Scheduling\n",
    "\n",
    "Scheduling problems are common in many industries and real-world scenarios. The general goal is to assign tasks (or \"jobs\") to available resources (like \"machines\" or workers) over time, respecting various constraints, to achieve a specific objective (like minimizing cost or completion time).\n",
    "\n",
    "These problems can become very complex quickly due to:\n",
    "\n",
    "* **Combinatorial Nature:** There are often vast numbers of possible schedules.\n",
    "* **Constraints:** Rules like resource availability, task dependencies (precedence), deadlines, and setup times add layers of difficulty.\n",
    "\n",
    "Examples include factory production planning, project task management, logistics routing, and operating system task scheduling. Mathematical optimization provides a powerful framework for finding optimal or near-optimal solutions to these challenging problems.\n",
    "\n",
    "## 2. Focusing on: Parallel Machine Scheduling Problem (PMSP)\n",
    "\n",
    "In this notebook, we will focus on a fundamental and widely applicable type of scheduling problem known as the **Parallel Machine Scheduling Problem (PMSP)**.\n",
    "\n",
    "**The PMSP Setup:**\n",
    "\n",
    "* We have multiple independent **Jobs**. Each job represents a single task that needs to be done.\n",
    "* We have multiple identical (or related) **Machines** operating in parallel.\n",
    "* Each job `i` has a specific **Processing Time** (`JT[i]`) required to complete it, regardless of which machine it runs on.\n",
    "* Each job must be assigned to **exactly one** machine.\n",
    "* Machines can process multiple jobs, but **only one job at a time**.\n"
   ]
  },
  {
   "cell_type": "markdown",
   "metadata": {},
   "source": [
    "**The Goal (Objective):**\n",
    "\n",
    "Our primary objective is to **Minimize the Makespan**.\n",
    "\n",
    "* **Makespan:** The time when the *last* job finishes across *all* machines. This is determined by the machine that takes the longest to complete all jobs assigned to it.\n",
    "* **Objective:** Find an assignment of jobs to machines such that the completion time of the busiest machine is minimized. This effectively balances the workload across the available machines.\n",
    "\n",
    "This notebook will demonstrate how to model and solve this PMSP using the JijModeling and OMMX-Adapter.\n"
   ]
  },
  {
   "cell_type": "markdown",
   "metadata": {},
   "source": [
    "## 3. Problem Components (PMSP)\n",
    "\n",
    "Let's define the key elements for our PMSP model:\n",
    "\n",
    "* **Jobs:** A set of independent tasks to be scheduled (indexed `i = 0, 1, ..., N-1`).\n",
    "* **Machines:** A set of parallel resources available to process the jobs (indexed `m = 0, 1, ..., M-1`).\n",
    "* **Processing Times (`JT[i]`):** The time required to complete job `i` on any machine.\n",
    "\n",
    "## 4. Objective Function (Minimize Makespan)\n",
    "\n",
    "As stated, the goal is to minimize the makespan, which is the maximum completion time among all machines.\n"
   ]
  },
  {
   "cell_type": "markdown",
   "metadata": {},
   "source": [
    "## 5. Key Constraints (PMSP)\n",
    "\n",
    "To ensure a valid schedule, we need two main types of constraints:\n",
    "\n",
    "1.  **Job Assignment Constraint:** Every job must be assigned to exactly one machine.\n",
    "    * Mathematically: For each job `i`, the sum of assignments `x[i, m]` over all machines `m` must equal 1.\n",
    "2.  **Makespan Constraint:** The makespan must be greater than or equal to the total processing time (load) on *any* given machine `m`.\n",
    "    * Mathematically: For each machine `m`, the sum of processing times `JT[i]` for all jobs `i` assigned to it (`JT[i] * x[i, m]`) must be less than or equal to the `makespan` variable.\n",
    "\n",
    "By minimizing the `makespan` variable subject to these constraints, the optimizer is forced to find an assignment that balances the load and thus minimizes the maximum load.\n"
   ]
  },
  {
   "cell_type": "markdown",
   "metadata": {},
   "source": [
    "## 6. Mathematical Model Definition (JijModeling)\n",
    "\n",
    "Now, let's express this PMSP using JijModeling."
   ]
  },
  {
   "cell_type": "code",
   "execution_count": 1,
   "metadata": {},
   "outputs": [
    {
     "data": {
      "text/latex": [
       "$$\\begin{array}{cccc}\\text{Problem:} & \\text{Parallel Machine Scheduling} & & \\\\& & \\min \\quad \\displaystyle makespan & \\\\\\text{{s.t.}} & & & \\\\ & \\text{Job\\_Assignment} & \\displaystyle \\sum_{m = 0}^{M - 1} x_{i, m} = 1 & \\forall i \\in \\left\\{0,\\ldots,N - 1\\right\\} \\\\ & \\text{Max\\_Time\\_per\\_Machine} & \\displaystyle \\sum_{i = 0}^{N - 1} JT_{i} \\cdot x_{i, m} \\leq makespan & \\forall m \\in \\left\\{0,\\ldots,M - 1\\right\\} \\\\\\text{{where}} & & & \\\\& x & 2\\text{-dim binary variable}& \\text{x[i, m]: 1 if job i is assigned to machine m, else 0}\\\\& makespan & 0\\text{-dim continuous variable}& \\text{Makespan: The completion time of the last job across all machines}\\\\ & & \\text{lower bound: }0 & \\\\ & & \\text{upper bound: }\\sum_{i = 0}^{N - 1} JT_{i} & \\\\\\end{array}$$"
      ],
      "text/plain": [
       "<jijmodeling.Problem at 0x12684b200>"
      ]
     },
     "execution_count": 1,
     "metadata": {},
     "output_type": "execute_result"
    }
   ],
   "source": [
    "# Import necessary libraries\n",
    "import jijmodeling as jm\n",
    "\n",
    "# --- 1. Placeholders (Input Data) ---\n",
    "# JT[i]: Processing time for job i\n",
    "JT = jm.Placeholder(\"JT\", ndim=1, description=\"Processing time for job i\")\n",
    "# N: Number of jobs (derived from the length of JT)\n",
    "N = JT.len_at(0, latex=\"N\", description=\"Number of jobs\")\n",
    "# M: Number of machines\n",
    "M = jm.Placeholder(\"M\", description=\"Number of machines\")\n",
    "\n",
    "# --- 2. Elements (Indices) ---\n",
    "# i: Index for jobs (from 0 to N-1)\n",
    "i = jm.Element(\"i\", belong_to=(0, N), description=\"Index for jobs\")\n",
    "# m: Index for machines (from 0 to M-1)\n",
    "m = jm.Element(\"m\", belong_to=(0, M), description=\"Index for machines\")\n",
    "\n",
    "# --- 3. Variables (Decision and Auxiliary) ---\n",
    "# x[i, m]: Binary variable, 1 if job i is assigned to machine m, 0 otherwise\n",
    "x = jm.BinaryVar(\n",
    "    \"x\",\n",
    "    shape=(N, M),\n",
    "    description=\"x[i, m]: 1 if job i is assigned to machine m, else 0\",\n",
    ")\n",
    "# makespan: Continuous variable representing the maximum completion time across all machines\n",
    "makespan = jm.ContinuousVar(\n",
    "    \"makespan\",\n",
    "    lower_bound=0,\n",
    "    upper_bound=jm.sum(i, JT[i]),\n",
    "    description=\"Makespan: The completion time of the last job across all machines\",\n",
    ")\n",
    "\n",
    "# --- 4. Problem Definition ---\n",
    "problem = jm.Problem(\"Parallel Machine Scheduling\")\n",
    "\n",
    "# --- 5. Constraints ---\n",
    "# Constraint 1: Each job 'i' must be assigned to exactly one machine 'm'.\n",
    "problem += jm.Constraint(\n",
    "    \"Job_Assignment\",\n",
    "    jm.sum(m, x[i, m]) == 1,\n",
    "    forall=i,\n",
    ")\n",
    "# Constraint 2: The total processing time on any machine 'm' must be less than or equal to the makespan.\n",
    "problem += jm.Constraint(\n",
    "    \"Max_Time_per_Machine\",\n",
    "    jm.sum(i, JT[i] * x[i, m]) <= makespan,\n",
    "    forall=m,\n",
    ")\n",
    "\n",
    "# --- 6. Objective Function ---\n",
    "# Minimize the makespan.\n",
    "problem += makespan\n",
    "\n",
    "problem"
   ]
  },
  {
   "cell_type": "markdown",
   "metadata": {},
   "source": [
    "The code above defines the mathematical model for the Parallel Machine Scheduling Problem.\n",
    "\n",
    "* `x[i, m]` represents the core **decision**: which machine gets which job.\n",
    "* `makespan` represents the overall schedule **performance** (completion time) we want to minimize.\n",
    "* The `Job_Assignment` constraint ensures every job is processed.\n",
    "* The `Max_Time_per_Machine` constraint links the assignments to the makespan, ensuring the makespan is large enough to accommodate the busiest machine. Minimizing `makespan` then implicitly balances the load.\n",
    "\n",
    "## 7. Preparing Instance Data\n",
    "\n",
    "Next, we define a specific instance of the problem: the processing times for a set of jobs and the number of available machines."
   ]
  },
  {
   "cell_type": "code",
   "execution_count": 2,
   "metadata": {},
   "outputs": [
    {
     "name": "stdout",
     "output_type": "stream",
     "text": [
      "Instance Data:\n",
      "  Job Processing Times (JT): [5, 8, 3, 6, 9, 4, 7, 5, 2, 8]\n",
      "  Number of Machines (M): 3\n",
      "  Number of Jobs (N derived): 10\n"
     ]
    }
   ],
   "source": [
    "# Example: 10 jobs with their respective processing times\n",
    "job_times_data = [5, 8, 3, 6, 9, 4, 7, 5, 2, 8]\n",
    "# Example: 3 machines are available\n",
    "num_machines_data = 3\n",
    "\n",
    "# Prepare the data in the dictionary format required by JijModeling Placeholders\n",
    "instance_data = {\n",
    "    \"JT\": job_times_data,\n",
    "    \"M\": num_machines_data,\n",
    "}\n",
    "\n",
    "print(\"Instance Data:\")\n",
    "print(f\"  Job Processing Times (JT): {instance_data['JT']}\")\n",
    "print(f\"  Number of Machines (M): {instance_data['M']}\")\n",
    "print(f\"  Number of Jobs (N derived): {len(instance_data['JT'])}\")"
   ]
  },
  {
   "cell_type": "markdown",
   "metadata": {},
   "source": [
    "## 8. Solving the Instance with a Solver\n",
    "\n",
    "We now use a solver compatible with JijModeling to find the optimal solution for the defined model and instance data.\n",
    "Here, we'll use the SCIP interface provided by the `ommx-pyscipopt-adapter` package.\n"
   ]
  },
  {
   "cell_type": "code",
   "execution_count": 3,
   "metadata": {},
   "outputs": [],
   "source": [
    "# Import the necessary adapter and interpreter\n",
    "import ommx_pyscipopt_adapter as scip_ad\n",
    "\n",
    "# 1. Create an Interpreter to evaluate the problem with specific instance data\n",
    "interpreter = jm.Interpreter(instance_data)\n",
    "# 2. Evaluate the problem to create a concrete instance for the solver\n",
    "instance = interpreter.eval_problem(problem)\n",
    "\n",
    "# 3. Solve the instance using the OMMX SCIP Adapter\n",
    "solution = scip_ad.OMMXPySCIPOptAdapter.solve(instance)"
   ]
  },
  {
   "cell_type": "markdown",
   "metadata": {},
   "source": [
    "## 9. Interpreting and Displaying Results\n",
    "\n",
    "Now, we process the `solution` object returned by the solver adapter to extract the optimal makespan and the job assignments."
   ]
  },
  {
   "cell_type": "code",
   "execution_count": 4,
   "metadata": {},
   "outputs": [],
   "source": [
    "x_result: dict[tuple[int, ...], float] = solution.extract_decision_variables(\"x\")"
   ]
  },
  {
   "cell_type": "code",
   "execution_count": 5,
   "metadata": {},
   "outputs": [
    {
     "name": "stdout",
     "output_type": "stream",
     "text": [
      "\n",
      "--- Solver Results ---\n",
      "Optimal Makespan: 19.00\n",
      "\n",
      "Job Assignments per Machine:\n",
      "  Machine 0: Jobs [5, 7, 8, 9]\n",
      "  Machine 1: Jobs [0, 1, 3]\n",
      "  Machine 2: Jobs [2, 4, 6]\n",
      "\n",
      "Assignment Details (DataFrame):\n",
      "   Job  Machine  Time\n",
      "0    5        0     4\n",
      "1    7        0     5\n",
      "2    8        0     2\n",
      "3    9        0     8\n",
      "4    0        1     5\n",
      "5    1        1     8\n",
      "6    3        1     6\n",
      "7    2        2     3\n",
      "8    4        2     9\n",
      "9    6        2     7\n"
     ]
    }
   ],
   "source": [
    "import pandas as pd\n",
    "\n",
    "optimal_makespan = solution.objective\n",
    "print(f\"\\n--- Solver Results ---\")\n",
    "print(f\"Optimal Makespan: {optimal_makespan:.2f}\")\n",
    "assignment = {}  # {machine_idx: [job_idx, ...]}\n",
    "assigned_jobs_flat = (\n",
    "    []\n",
    ")  # To store data for DataFrame: [{'Job': i, 'Machine': m, 'Time': t}]\n",
    "x_result = {}\n",
    "\n",
    "x_result = solution.extract_decision_variables(\"x\")\n",
    "\n",
    "# Process the extracted x_result dictionary\n",
    "num_machines_instance = instance_data[\"M\"]\n",
    "for indices, val in x_result.items():\n",
    "    # indices should be a tuple like (i, m)\n",
    "    if len(indices) == 2 and val > 0.5:  # Check for binary '1'\n",
    "        i, m = indices  # Unpack the indices\n",
    "        if m not in assignment:\n",
    "            assignment[m] = []\n",
    "        assignment[m].append(i)\n",
    "        # Ensure job index i is valid before accessing JT\n",
    "        if 0 <= i < len(instance_data[\"JT\"]):\n",
    "            assigned_jobs_flat.append(\n",
    "                {\"Job\": i, \"Machine\": m, \"Time\": instance_data[\"JT\"][i]}\n",
    "            )\n",
    "        else:\n",
    "            print(\n",
    "                f\"Warning: Invalid job index {i} found in solution variable 'x' for machine {m}.\"\n",
    "            )\n",
    "\n",
    "print(\"\\nJob Assignments per Machine:\")\n",
    "if assignment:\n",
    "    for m_idx in range(num_machines_instance):\n",
    "        assigned_jobs = sorted(assignment.get(m_idx, []))\n",
    "        print(f\"  Machine {m_idx}: Jobs {assigned_jobs}\")\n",
    "else:\n",
    "    # This case might occur if x_result extraction failed or was empty despite optimal objective\n",
    "    print(\"  No assignments could be extracted from 'x' variables.\")\n",
    "\n",
    "# Display assignments clearly using a Pandas DataFrame\n",
    "if assigned_jobs_flat:\n",
    "    assignment_df = pd.DataFrame(assigned_jobs_flat)\n",
    "    print(\"\\nAssignment Details (DataFrame):\")\n",
    "    print(\n",
    "        assignment_df.sort_values(by=[\"Machine\", \"Job\"]).reset_index(\n",
    "            drop=True\n",
    "        )\n",
    "    )\n",
    "else:\n",
    "    print(\"\\nAssignment Details (DataFrame): Empty\")\n",
    "\n"
   ]
  },
  {
   "cell_type": "markdown",
   "metadata": {},
   "source": [
    "## 10. Analyzing and Visualizing Results\n",
    "\n",
    "Let's analyze the solution further and visualize it. We'll calculate the total processing time (load) on each machine and verify that the maximum load indeed matches the optimized makespan."
   ]
  },
  {
   "cell_type": "code",
   "execution_count": 7,
   "metadata": {},
   "outputs": [
    {
     "name": "stdout",
     "output_type": "stream",
     "text": [
      "\n",
      "--- Result Analysis ---\n",
      "Total Processing Time (Load) per Machine:\n",
      "  Machine 0: 19.00\n",
      "  Machine 1: 19.00\n",
      "  Machine 2: 19.00\n",
      "\n",
      "Calculated Maximum Machine Load: 19.00\n",
      "(Solver's Optimal Makespan: 19.00)\n",
      "-> Verification successful: Makespan matches the maximum machine load.\n",
      "\n",
      "--- Visualization ---\n"
     ]
    },
    {
     "data": {
      "image/png": "[encoded data removed]",
      "text/plain": [
       "<Figure size 800x500 with 1 Axes>"
      ]
     },
     "metadata": {},
     "output_type": "display_data"
    },
    {
     "name": "stdout",
     "output_type": "stream",
     "text": [
      "\n",
      "Generating Gantt-style assignment chart...\n"
     ]
    },
    {
     "name": "stderr",
     "output_type": "stream",
     "text": [
      "/var/folders/75/kxv4q45s3vv21rqmyth9036w0000gn/T/ipykernel_64735/3642470963.py:82: MatplotlibDeprecationWarning: The get_cmap function was deprecated in Matplotlib 3.7 and will be removed in 3.11. Use ``matplotlib.colormaps[name]`` or ``matplotlib.colormaps.get_cmap()`` or ``pyplot.get_cmap()`` instead.\n",
      "  job_colors = plt.cm.get_cmap(\"tab20\", num_jobs_instance)  # Distinct colors for jobs\n"
     ]
    },
    {
     "data": {
      "image/png": "[encoded data removed]",
      "text/plain": [
       "<Figure size 1200x400 with 1 Axes>"
      ]
     },
     "metadata": {},
     "output_type": "display_data"
    }
   ],
   "source": [
    "# Import plotting libraries if not already done\n",
    "import matplotlib.pyplot as plt\n",
    "import numpy as np\n",
    "import pandas as pd  # For the DataFrame display (assuming done in Sec 9)\n",
    "\n",
    "num_machines_instance = instance_data[\"M\"]\n",
    "num_jobs_instance = len(instance_data[\"JT\"])\n",
    "job_times = instance_data[\"JT\"]  # Alias for convenience\n",
    "\n",
    "# --- Analysis: Calculate Machine Loads ---\n",
    "print(\"\\n--- Result Analysis ---\")\n",
    "print(\"Total Processing Time (Load) per Machine:\")\n",
    "machine_loads = {m: 0 for m in range(num_machines_instance)}\n",
    "machine_load_list = []  # To store loads for plotting and verification\n",
    "\n",
    "# Calculate loads directly from the 'assignment' dictionary\n",
    "for m_idx in range(num_machines_instance):\n",
    "    load = 0\n",
    "    assigned_job_indices = assignment.get(m_idx, [])\n",
    "    for job_idx in assigned_job_indices:\n",
    "        if 0 <= job_idx < len(job_times):\n",
    "            load += job_times[job_idx]\n",
    "        else:\n",
    "            print(\n",
    "                f\"Warning: Invalid job index {job_idx} found for machine {m_idx} during load calculation.\"\n",
    "            )\n",
    "    machine_loads[m_idx] = load\n",
    "    machine_load_list.append(load)\n",
    "    print(f\"  Machine {m_idx}: {load:.2f}\")\n",
    "\n",
    "# --- Verification ---\n",
    "calculated_max_load = max(machine_load_list) if machine_load_list else 0\n",
    "print(f\"\\nCalculated Maximum Machine Load: {calculated_max_load:.2f}\")\n",
    "print(f\"(Solver's Optimal Makespan: {optimal_makespan:.2f})\")\n",
    "# Use a small tolerance for float comparison\n",
    "if abs(calculated_max_load - optimal_makespan) < 1e-6:\n",
    "    print(\"-> Verification successful: Makespan matches the maximum machine load.\")\n",
    "else:\n",
    "    print(\n",
    "        \"-> WARNING: Makespan does NOT match the calculated maximum load. Check model/solver.\"\n",
    "    )\n",
    "\n",
    "# --- Visualization 1: Bar chart of machine loads ---\n",
    "print(\"\\n--- Visualization ---\")\n",
    "plt.figure(figsize=(8, 5))\n",
    "machines = [f\"Machine {m}\" for m in range(num_machines_instance)]\n",
    "bars = plt.bar(machines, machine_load_list, color=\"skyblue\", edgecolor=\"black\")\n",
    "plt.axhline(\n",
    "    optimal_makespan,\n",
    "    color=\"red\",\n",
    "    linestyle=\"--\",\n",
    "    label=f\"Optimal Makespan ({optimal_makespan:.2f})\",\n",
    ")\n",
    "\n",
    "for bar in bars:\n",
    "    yval = bar.get_height()\n",
    "    plt.text(\n",
    "        bar.get_x() + bar.get_width() / 2.0,\n",
    "        yval,\n",
    "        f\"{yval:.2f}\",\n",
    "        va=\"bottom\",\n",
    "        ha=\"center\",\n",
    "    )\n",
    "\n",
    "plt.xlabel(\"Machine\")\n",
    "plt.ylabel(\"Total Processing Time (Load)\")\n",
    "plt.title(\"Machine Load Distribution\")\n",
    "plt.legend()\n",
    "plt.grid(axis=\"y\", linestyle=\":\", alpha=0.7)\n",
    "plt.ylim(0, optimal_makespan * 1.15)\n",
    "plt.tight_layout()\n",
    "plt.show()\n",
    "\n",
    "# --- Visualization 2: Gantt-Style Chart of Assignments ---\n",
    "# This chart shows the jobs assigned to each machine sequentially.\n",
    "# The horizontal axis represents time.\n",
    "# Based on the user-provided snippet's logic.\n",
    "\n",
    "fig, ax = plt.subplots(figsize=(12, max(4, num_machines_instance * 0.8)))\n",
    "# Track the current end time for each machine\n",
    "machine_end_times = np.zeros(num_machines_instance)\n",
    "job_colors = plt.cm.get_cmap(\"tab20\", num_jobs_instance)  # Distinct colors for jobs\n",
    "\n",
    "print(\"\\nGenerating Gantt-style assignment chart...\")\n",
    "\n",
    "# Iterate through machines and the jobs assigned to them\n",
    "for m_idx in range(num_machines_instance):\n",
    "    # Get assigned jobs for this machine, sort for consistent plotting (optional)\n",
    "    assigned_job_indices = sorted(assignment.get(m_idx, []))\n",
    "\n",
    "    for job_idx in assigned_job_indices:\n",
    "        if 0 <= job_idx < len(job_times):\n",
    "            job_time = job_times[job_idx]\n",
    "            start_plot_time = machine_end_times[m_idx]\n",
    "\n",
    "            # Plot the bar for the job\n",
    "            ax.barh(\n",
    "                m_idx,\n",
    "                job_time,\n",
    "                left=start_plot_time,\n",
    "                height=0.6,\n",
    "                align=\"center\",\n",
    "                color=job_colors(job_idx % job_colors.N),\n",
    "                edgecolor=\"black\",\n",
    "                alpha=0.8,\n",
    "            )\n",
    "\n",
    "            # Add job index text inside the bar\n",
    "            # Adjust text position slightly for better visibility\n",
    "            text_x = start_plot_time + job_time / 2.0\n",
    "            text_y = m_idx  # Vertically center within the bar's height\n",
    "            ax.text(\n",
    "                text_x,\n",
    "                text_y,\n",
    "                f\"J{job_idx}\",\n",
    "                va=\"center\",\n",
    "                ha=\"center\",\n",
    "                color=\"white\",\n",
    "                fontweight=\"bold\",\n",
    "                fontsize=9,\n",
    "            )\n",
    "\n",
    "            # Update the end time for this machine\n",
    "            machine_end_times[m_idx] += job_time\n",
    "        else:\n",
    "            # This condition should ideally not be met if extraction worked\n",
    "            print(\n",
    "                f\"Skipping plotting for invalid job index {job_idx} on machine {m_idx}\"\n",
    "            )\n",
    "\n",
    "# --- Configure plot appearance ---\n",
    "ax.set_xlabel(\"Execution Time\")\n",
    "ax.set_ylabel(\"Machine Number\")\n",
    "# Set y-ticks to match machine indices\n",
    "ax.set_yticks(range(num_machines_instance))\n",
    "ax.set_yticklabels(\n",
    "    [f\"{m}\" for m in range(num_machines_instance)]\n",
    ")  # Label ticks with machine numbers\n",
    "ax.set_title(\"Gantt-Style Chart: Job Assignments per Machine\")\n",
    "\n",
    "# Improve appearance\n",
    "ax.invert_yaxis()  # Show Machine 0 at the top\n",
    "plt.grid(axis=\"x\", linestyle=\":\", alpha=0.6)\n",
    "# Set x-axis limit slightly beyond makespan for clarity\n",
    "plt.xlim(0, optimal_makespan * 1.05)\n",
    "plt.tight_layout()\n",
    "plt.show()\n"
   ]
  },
  {
   "cell_type": "markdown",
   "metadata": {},
   "source": [
    "## 11. Summary\n",
    "\n",
    "In this notebook, we demonstrated how to model and solve a **Parallel Machine Scheduling Problem (PMSP)** using JijModeling and the **OMMX SCIP Adapter**.\n",
    "\n",
    "* We defined the problem: Assign independent jobs to identical parallel machines to minimize the makespan (maximum machine completion time).\n",
    "* We formulated a mathematical model using JijModeling, defining binary variables `x[i, m]` for assignments and a continuous variable `makespan` for the objective.\n",
    "* We included constraints ensuring each job is assigned exactly once and that the makespan correctly reflects the maximum load on any machine.\n",
    "* We provided specific instance data (job processing times, number of machines).\n",
    "* We used the `ommx-pyscipopt-adapter` to interpret the model and solve the instance using the SCIP solver.\n",
    "* Finally, we extracted and interpreted the results from the solver's solution object, verifying the makespan against calculated machine loads, and visualized the assignments and loads using plots.\n",
    "\n",
    "This process illustrates how mathematical optimization libraries like JijModeling can be combined with different solver interfaces (via OMMX adapters) to tackle practical scheduling challenges. The same principles can be extended to more complex problems."
   ]
  }
 ],
 "metadata": {
  "kernelspec": {
   "display_name": ".venv",
   "language": "python",
   "name": "python3"
  },
  "language_info": {
   "codemirror_mode": {
    "name": "ipython",
    "version": 3
   },
   "file_extension": ".py",
   "mimetype": "text/x-python",
   "name": "python",
   "nbconvert_exporter": "python",
   "pygments_lexer": "ipython3",
   "version": "3.11.11"
  }
 },
 "nbformat": 4,
 "nbformat_minor": 2
}
